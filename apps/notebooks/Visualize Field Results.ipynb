{
 "cells": [
  {
   "cell_type": "code",
   "execution_count": 1,
   "id": "2a12ba28-3fd8-4817-9aba-ec2cae6a56b4",
   "metadata": {},
   "outputs": [],
   "source": [
    "%matplotlib widget"
   ]
  },
  {
   "cell_type": "code",
   "execution_count": 2,
   "id": "2e244dda-600e-42ce-84ac-f85597633ab7",
   "metadata": {},
   "outputs": [],
   "source": [
    "import glob\n",
    "\n",
    "import database.interface as db\n",
    "from optimizer.contest import Contest\n",
    "from optimizer.lineup import Lineup\n",
    "from optimizer.projection import covariance\n",
    "from optimizer.projection import usage\n",
    "from typing import List\n",
    "\n",
    "import matplotlib.pyplot as plt\n",
    "import numpy as np\n",
    "import pandas as pd\n",
    "from mpl_toolkits.mplot3d import Axes3D\n",
    "\n",
    "import warnings\n",
    "import jscatter\n"
   ]
  },
  {
   "cell_type": "code",
   "execution_count": 3,
   "id": "ac5d3603-6d3a-4d6e-b85d-365769cdff9c",
   "metadata": {},
   "outputs": [],
   "source": [
    "def all_entered_contests():\n",
    "    contests = glob.glob('contest_entries/2023/Week*/*_upload.csv')\n",
    "    contest_ids = []\n",
    "    for contest_path in contests:\n",
    "        split_num = contest_path.split('_')[-2]\n",
    "        try:\n",
    "            split_num = int(split_num)\n",
    "        except ValueError:\n",
    "            try:\n",
    "                split_num = int(contest_path.split('_')[-3])\n",
    "            except ValueError:\n",
    "                split_num = int(contest_path.split('_')[-4])\n",
    "            \n",
    "        if split_num not in contest_ids:\n",
    "            contest_ids.append(split_num)\n",
    "    return contest_ids"
   ]
  },
  {
   "cell_type": "code",
   "execution_count": 4,
   "id": "059e1415-b882-4c7d-add7-f7c808809e91",
   "metadata": {},
   "outputs": [
    {
     "name": "stdout",
     "output_type": "stream",
     "text": [
      "[147641480, 149743407, 149743434, 149743471, 149743522, 150265279, 150462148, 150934000, 151202093, 151210640, 151386597, 151418586, 151653222]\n"
     ]
    }
   ],
   "source": [
    "contests = all_entered_contests()\n",
    "print(contests)\n",
    "CONTESTS = contests"
   ]
  },
  {
   "cell_type": "code",
   "execution_count": 5,
   "id": "5bcc1a8e-f501-4127-bd70-93a7f9726dda",
   "metadata": {},
   "outputs": [],
   "source": [
    "## Display players and projections to check for any missing data\n",
    "plotcovproj = []\n",
    "plotactualproj = []\n",
    "plotactualcov = []\n",
    "all_data = []\n",
    "for CONTEST in CONTESTS:\n",
    "    contest = Contest.Contest(contest_id=CONTEST, db_interface=db.DFSDBInterface())\n",
    "    \n",
    "    constraint = Lineup.LineupConstraint(contest_type='Showdown')\n",
    "    draft_group = Lineup.DraftGroup(draft_group_id=contest.draft_group_id, db_interface=db.DFSDBInterface())\n",
    "    \n",
    "    # Get player projection data\n",
    "    draft_group.populate_points_data(db.DFSDBInterface())\n",
    "    draft_group.data['variance'] = draft_group.data['variance'].fillna(1.0)\n",
    "    \n",
    "    ## Generate the Field\n",
    "    \n",
    "    # Generate all possible lineups\n",
    "    generator = Lineup.greedyGenerator(constraint, draft_group.data, projections_only=True)\n",
    "    lineups = generator.generate(verbose=False, limit=None, random=False)\n",
    "    \n",
    "    # Get the covariance matrix\n",
    "    cov_group = covariance.DraftGroupCovariance(draft_group.data)\n",
    "    cov_matrix = cov_group.get_covariance()\n",
    "    \n",
    "    field = Contest.LineupSet(draft_group.data, lineups, cov_matrix)\n",
    "    data = field.get_lineup_stats()\n",
    "\n",
    "    def scale_columns(df, cols):\n",
    "        # set the median to 0, scale by std deviation\n",
    "        for col in cols:\n",
    "            df[col + '_scale'] = (df[col] - np.median(df[col])) / np.std(df[col])\n",
    "        return df\n",
    "\n",
    "    data = scale_columns(data, ['projection', 'covariance', 'salary', 'actual'])\n",
    "    all_data.append(data)\n",
    "\n",
    "all_data = pd.concat(all_data).reset_index()\n",
    "    # # print(data.head(10))\n",
    "\n",
    "    # with warnings.catch_warnings():\n",
    "    #     warnings.simplefilter(\"ignore\")\n",
    "    #     scatter = jscatter.Scatter(data=data, x='projection', y='covariance')\n",
    "    #     scatter.color(by='salary')\n",
    "    #     scatter.size(by='actual')\n",
    "    #     scatter.opacity(by='actual')\n",
    "    #     scatter.show()\n",
    "    #     plotcovproj.append(scatter)\n",
    "\n",
    "    #     scatter = jscatter.Scatter(data=data, x='projection', y='actual')\n",
    "    #     scatter.color(by='salary')\n",
    "    #     scatter.size(by='covariance')\n",
    "    #     scatter.opacity(by='covariance')\n",
    "    #     scatter.show()\n",
    "    #     plotactualproj.append(scatter)\n",
    "\n",
    "    #     scatter = jscatter.Scatter(data=data, x='covariance', y='actual')\n",
    "    #     scatter.color(by='salary')\n",
    "    #     scatter.size(by='projection')\n",
    "    #     scatter.opacity(by='projection')\n",
    "    #     scatter.show()\n",
    "    #     plotactualcov.append(scatter)"
   ]
  },
  {
   "cell_type": "code",
   "execution_count": 6,
   "id": "7cfd8ed7-33ad-42c6-944c-6083510a1f68",
   "metadata": {},
   "outputs": [],
   "source": [
    "# # axis values mirror whichever plot is being interacted with\n",
    "# jscatter.link(plotcovproj, rows=4, cols=3)\n",
    "\n",
    "# # axis values mirror whichever plot is being interacted with\n",
    "# jscatter.link(plotactualcov, rows=4, cols=3)\n",
    "\n",
    "# # axis values mirror whichever plot is being interacted with\n",
    "# jscatter.link(plotactualproj, rows=4, cols=3)"
   ]
  },
  {
   "cell_type": "code",
   "execution_count": 9,
   "id": "e785e256-f6bb-4895-9431-4a319bb996aa",
   "metadata": {},
   "outputs": [
    {
     "name": "stdout",
     "output_type": "stream",
     "text": [
      "1548376 1650284\n"
     ]
    },
    {
     "data": {
      "application/vnd.jupyter.widget-view+json": {
       "model_id": "fbd710a12f7143da949c2baca0b7a4de",
       "version_major": 2,
       "version_minor": 0
      },
      "text/plain": [
       "GridBox(children=(HBox(children=(VBox(children=(Button(button_style='primary', icon='arrows', layout=Layout(wi…"
      ]
     },
     "execution_count": 9,
     "metadata": {},
     "output_type": "execute_result"
    }
   ],
   "source": [
    "plot_data = all_data.copy()\n",
    "# plot_data = plot_data[(plot_data['covariance_scale'] > 0.) & (plot_data['covariance_scale'] < 5.)]\n",
    "# plot_data = plot_data[(plot_data['projection_scale'] > 0.) & (plot_data['projection_scale'] < 3.)]\n",
    "# plot_data = plot_data[plot_data['salary_scale'] > 0.]\n",
    "# plot_data = plot_data[plot_data['actual_scale'] > 3.]\n",
    "plot_data = plot_data.sort_values(by='actual_scale', ascending=True).reset_index().dropna()\n",
    "print(len(plot_data), len(all_data))\n",
    "# print(plot_data.describe())\n",
    "\n",
    "with warnings.catch_warnings():\n",
    "    warnings.simplefilter(\"ignore\")\n",
    "    scatter1 = jscatter.Scatter(data=plot_data, x='projection_scale', y='covariance_scale')\n",
    "    scatter1.color(by='actual_scale')\n",
    "    scatter1.size(by='actual_scale')\n",
    "    scatter1.opacity(by='actual_scale')\n",
    "    \n",
    "    scatter2 = jscatter.Scatter(data=plot_data, x='projection_scale', y='actual_scale')\n",
    "    scatter2.color(by='actual_scale')\n",
    "    scatter2.size(by='actual_scale')\n",
    "    scatter2.opacity(by='actual_scale')\n",
    "    \n",
    "    scatter3 = jscatter.Scatter(data=plot_data, x='covariance_scale', y='actual_scale')\n",
    "    scatter3.color(by='actual_scale')\n",
    "    scatter3.size(by='actual_scale')\n",
    "    scatter3.opacity(by='actual_scale')\n",
    "\n",
    "jscatter.link([scatter1, scatter2, scatter3])"
   ]
  },
  {
   "cell_type": "code",
   "execution_count": 8,
   "id": "f7cef64d-55d7-40ab-8076-2cc23a64c639",
   "metadata": {},
   "outputs": [
    {
     "name": "stdout",
     "output_type": "stream",
     "text": [
      "1602 1650284\n"
     ]
    },
    {
     "data": {
      "application/vnd.jupyter.widget-view+json": {
       "model_id": "97a567c70a3c46c4a3a6f46b925a1547",
       "version_major": 2,
       "version_minor": 0
      },
      "text/plain": [
       "GridBox(children=(HBox(children=(VBox(children=(Button(button_style='primary', icon='arrows', layout=Layout(wi…"
      ]
     },
     "execution_count": 8,
     "metadata": {},
     "output_type": "execute_result"
    }
   ],
   "source": [
    "plot_data = all_data.copy()\n",
    "# plot_data = plot_data[(plot_data['covariance_scale'] > 0.) & (plot_data['covariance_scale'] < 5.)]\n",
    "# plot_data = plot_data[(plot_data['projection_scale'] > 0.) & (plot_data['projection_scale'] < 3.)]\n",
    "# plot_data = plot_data[plot_data['salary_scale'] > 0.]\n",
    "plot_data = plot_data[plot_data['actual_scale'] > 3.]\n",
    "plot_data = plot_data.sort_values(by='actual_scale', ascending=True).reset_index().dropna()\n",
    "print(len(plot_data), len(all_data))\n",
    "# print(plot_data.describe())\n",
    "\n",
    "with warnings.catch_warnings():\n",
    "    warnings.simplefilter(\"ignore\")\n",
    "    scatter1 = jscatter.Scatter(data=plot_data, x='projection_scale', y='covariance_scale')\n",
    "    scatter1.color(by='salary_scale')\n",
    "    scatter1.size(by='salary_scale')\n",
    "    scatter1.opacity(by='salary_scale')\n",
    "    \n",
    "    scatter2 = jscatter.Scatter(data=plot_data, x='projection_scale', y='actual_scale')\n",
    "    scatter2.color(by='salary_scale')\n",
    "    scatter2.size(by='salary_scale')\n",
    "    scatter2.opacity(by='salary_scale')\n",
    "    \n",
    "    scatter3 = jscatter.Scatter(data=plot_data, x='covariance_scale', y='actual_scale')\n",
    "    scatter3.color(by='salary_scale')\n",
    "    scatter3.size(by='salary_scale')\n",
    "    scatter3.opacity(by='salary_scale')\n",
    "\n",
    "    scatter4 = jscatter.Scatter(data=plot_data, x='salary_scale', y='actual_scale')\n",
    "    scatter4.color(by='salary_scale')\n",
    "    scatter4.size(by='salary_scale')\n",
    "    scatter4.opacity(by='salary_scale')\n",
    "\n",
    "jscatter.link([scatter1, scatter2, scatter3, scatter4], rows=2)"
   ]
  },
  {
   "cell_type": "markdown",
   "id": "172d8f51-d5d7-4edc-aa00-fae7bbd44ad9",
   "metadata": {},
   "source": [
    "### The best lineups:\n",
    "- Are above median salary, with best upside for those closer to \\$50k\n",
    "- Are above median projection, generally around 2$\\sigma$ but usually not over 3$\\sigma$\n",
    "- Are above median covariance, but the best are in the realm of 1-3$\\sigma$ above and not more\n",
    "- Sweet spot is between 1-2$\\sigma$ above median in both proj and covariance."
   ]
  },
  {
   "cell_type": "code",
   "execution_count": null,
   "id": "0b2b6aa9-e26b-432e-88c5-9ed2aa4acab4",
   "metadata": {},
   "outputs": [],
   "source": []
  }
 ],
 "metadata": {
  "kernelspec": {
   "display_name": "Python 3 (ipykernel)",
   "language": "python",
   "name": "python3"
  },
  "language_info": {
   "codemirror_mode": {
    "name": "ipython",
    "version": 3
   },
   "file_extension": ".py",
   "mimetype": "text/x-python",
   "name": "python",
   "nbconvert_exporter": "python",
   "pygments_lexer": "ipython3",
   "version": "3.12.3"
  }
 },
 "nbformat": 4,
 "nbformat_minor": 5
}
