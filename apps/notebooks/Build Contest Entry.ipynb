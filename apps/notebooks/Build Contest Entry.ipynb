{
 "cells": [
  {
   "cell_type": "code",
   "execution_count": 1,
   "id": "a0ba08b8",
   "metadata": {
    "ExecuteTime": {
     "end_time": "2023-09-28T01:32:48.574669Z",
     "start_time": "2023-09-28T01:32:47.318671Z"
    }
   },
   "outputs": [],
   "source": [
    "import sys\n",
    "import os\n",
    "# sys.path.append('../database/')\n",
    "import pathlib\n",
    "\n",
    "import database.interface as db\n",
    "from optimizer.contest import Contest\n",
    "from optimizer.lineup import Lineup\n",
    "from optimizer.projection import covariance\n",
    "from optimizer.projection import usage\n",
    "from typing import List\n",
    "\n",
    "import matplotlib.pyplot as plt\n",
    "import numpy as np\n",
    "\n",
    "import jscatter\n",
    "import warnings"
   ]
  },
  {
   "cell_type": "code",
   "execution_count": 2,
   "id": "422ba8f8-ccd9-4c3e-a0c1-aa9f554148dc",
   "metadata": {},
   "outputs": [],
   "source": [
    "CONTEST = 152678444\n",
    "NUM_LINEUPS = 20\n",
    "FIELD_FILE = True\n",
    "UPLOAD_FILE = True\n",
    "FILE_SUFFIX = None\n",
    "EXCLUDE_PLAYERS = [915397, 501150, ]"
   ]
  },
  {
   "cell_type": "code",
   "execution_count": 3,
   "id": "0b789e6b-aa2b-4b09-be86-5660fd5e0527",
   "metadata": {
    "ExecuteTime": {
     "end_time": "2023-09-26T03:29:32.166929Z",
     "start_time": "2023-09-26T03:29:32.166929Z"
    }
   },
   "outputs": [
    {
     "name": "stdout",
     "output_type": "stream",
     "text": [
      "     player_id                 name position  salary  projection\n",
      "29      830517  Christian McCaffrey       RB   12000       18.00\n",
      "79     1107034        Brandon Aiyuk       WR   10800       16.50\n",
      "7       403308         Kirk Cousins       QB   10600       15.70\n",
      "83     1121761          Brock Purdy       QB   10200       17.80\n",
      "55      923915       T.J. Hockenson       TE    8800       13.50\n",
      "33      835749         Deebo Samuel       WR    8600       11.60\n",
      "101    1214250       Jordan Addison       WR    7600       12.40\n",
      "17      733672        George Kittle       TE    7200       11.10\n",
      "57      944343   Alexander Mattison       RB    6600       12.30\n",
      "43      881058          K.J. Osborn       WR    6400       10.90\n",
      "15      604390        Brandon Allen       QB    6000        0.00\n",
      "97     1131204           Jaren Hall       QB    6000        0.00\n",
      "23      748309         Nick Mullens       QB    6000        0.00\n",
      "9       557860         Sean Mannion       QB    6000        0.00\n",
      "41      880026          Sam Darnold       QB    6000        0.00\n",
      "81     1116001         Jordan Mason       RB    5800        4.97\n",
      "65     1050833      Elijah Mitchell       RB    5600        5.27\n",
      "95     1130237           Jake Moody        K    5400        8.82\n",
      "3          359                49ers      DST    5000        5.47\n",
      "31      833701          Greg Joseph        K    4400        7.86\n",
      "37      867009       Jauan Jennings       WR    4000        7.24\n",
      "1          347              Vikings      DST    3400        3.83\n",
      "27      820435       Brandon Powell       WR    2800        6.87\n",
      "39      867759  Ray-Ray McCloud III       WR    2200        0.00\n",
      "61      976251            Cam Akers       RB    1800        5.11\n",
      "93     1130213          Ronnie Bell       WR    1000        0.00\n",
      "77     1069535     Justin Jefferson       WR     200        0.00\n",
      "91     1129513        Malik Knowles       WR     200        0.00\n",
      "85     1125589       Brayden Willis       TE     200        0.00\n",
      "87     1125739         Cameron Latu       TE     200        0.00\n",
      "89     1126817         Jalen Nailor       WR     200        0.00\n",
      "73     1065052           Tay Martin       WR     200        0.00\n",
      "99     1161729   Tyrion Davis-Price       RB     200        0.00\n",
      "103    1227717      DeWayne McBride       RB     200        0.00\n",
      "75     1068872          Jake Tonges       TE     200        0.00\n",
      "53      922040      Charlie Woerner       TE     200        0.00\n",
      "71     1060645        Thayer Thomas       WR     200        0.00\n",
      "35      837594     Jeremy McNichols       RB     200        0.00\n",
      "5       300580       Andrew DePaola       TE     200        0.00\n",
      "11      591586      Willie Snead IV       WR     200        0.00\n",
      "13      591801         Chris Conley       WR     200        0.00\n",
      "19      740704         Johnny Mundt       TE     200        0.00\n",
      "21      742474       Troy Fumagalli       TE     200        0.00\n",
      "25      752665         Ross Dwelley       TE     200        0.00\n",
      "45      881670        Lucky Jackson       WR     200        0.00\n",
      "69     1059576          Ty Chandler       RB     200        0.00\n",
      "47      881779          Josh Oliver       TE     200        0.00\n",
      "49      883314          Dan Chisena       WR     200        0.00\n",
      "51      910431         N'Keal Harry       WR     200        0.00\n",
      "59      946748         Kene Nwangwu       RB     200        0.00\n",
      "63     1049792            Nick Muse       TE     200        0.00\n",
      "67     1054872      Isaiah Winstead       WR     200        0.00\n",
      "105    1228586           Danny Gray       WR     200        0.00\n"
     ]
    }
   ],
   "source": [
    "## Display players and projections to check for any missing data\n",
    "\n",
    "contest = Contest.Contest(contest_id=CONTEST, db_interface=db.DFSDBInterface())\n",
    "\n",
    "constraint = Lineup.LineupConstraint(contest_type='Showdown')\n",
    "draft_group = Lineup.DraftGroup(draft_group_id=contest.draft_group_id, db_interface=db.DFSDBInterface())    \n",
    "if EXCLUDE_PLAYERS is not None:\n",
    "        draft_group.exclude(EXCLUDE_PLAYERS)\n",
    "\n",
    "# Get player projection data\n",
    "draft_group.populate_points_data(db.DFSDBInterface())\n",
    "\n",
    "print_cols = ['player_id', 'name', 'position', 'salary', 'projection']\n",
    "draft_group.data['variance'] = draft_group.data['variance'].fillna(1.0)\n",
    "df_data = draft_group.data.copy()\n",
    "df_data = df_data[df_data['roster_slot_id'] == 512]\n",
    "print(df_data[print_cols].sort_values(by='salary', ascending=False))"
   ]
  },
  {
   "cell_type": "code",
   "execution_count": 4,
   "id": "1d2dd479-4c48-4f1b-ab97-6209859ff8af",
   "metadata": {
    "ExecuteTime": {
     "end_time": "2023-09-26T03:29:32.166929Z",
     "start_time": "2023-09-26T03:29:32.166929Z"
    },
    "scrolled": true
   },
   "outputs": [
    {
     "name": "stdout",
     "output_type": "stream",
     "text": [
      "10000 lineups generated.\n",
      "20000 lineups generated.\n",
      "30000 lineups generated.\n",
      "40000 lineups generated.\n",
      "50000 lineups generated.\n",
      "60000 lineups generated.\n",
      "70000 lineups generated.\n",
      "80000 lineups generated.\n",
      "90000 lineups generated.\n",
      "100000 lineups generated.\n",
      "110000 lineups generated.\n",
      "120000 lineups generated.\n",
      "130000 lineups generated.\n"
     ]
    }
   ],
   "source": [
    "## Generate the Field\n",
    "\n",
    "players = draft_group.data\n",
    "# Generate all possible lineups\n",
    "generator = Lineup.greedyGenerator(constraint, players, projections_only=True)\n",
    "lineups = generator.generate(verbose=True, limit=None, random=False)\n",
    "\n",
    "# Get the covariance matrix\n",
    "cov_group = covariance.DraftGroupCovariance(players)\n",
    "cov_matrix = cov_group.get_covariance()\n",
    "\n",
    "field = Contest.LineupSet(players, lineups, cov_matrix)\n",
    "filepath = Contest.field_filename(contest.week, CONTEST)\n",
    "if FILE_SUFFIX is not None:\n",
    "    filepath = pathlib.Path((FILE_SUFFIX + '.').join(str(filepath).split('.')))\n",
    "if FIELD_FILE:\n",
    "    field.to_file(filepath)\n",
    "data = field.get_lineup_stats();"
   ]
  },
  {
   "cell_type": "code",
   "execution_count": 5,
   "id": "bc790c28-355e-407e-8cbd-81becdf5e140",
   "metadata": {},
   "outputs": [
    {
     "name": "stdout",
     "output_type": "stream",
     "text": [
      "Percent of lineups kept: 0.029749710519283868\n"
     ]
    },
    {
     "data": {
      "image/png": "[encoded data removed]",
      "text/plain": [
       "<Figure size 1200x400 with 3 Axes>"
      ]
     },
     "metadata": {},
     "output_type": "display_data"
    }
   ],
   "source": [
    "def scale_columns(df, cols):\n",
    "        # set the median to 0, scale by std deviation\n",
    "        for col in cols:\n",
    "            df[col + '_scale'] = (df[col] - np.median(df[col])) / np.std(df[col])\n",
    "        return df\n",
    "\n",
    "def filter_lineups(df):\n",
    "    df = df[(df['covariance_scale'] > 1.) & (df['covariance_scale'] < 3.)]\n",
    "    df = df[(df['projection_scale'] > 1.) & (df['projection_scale'] < 3.)]\n",
    "    df = df[df['salary'] > 48000.]\n",
    "    return df\n",
    "    \n",
    "data_scaled = scale_columns(data.copy(), ['covariance', 'projection', 'salary'])\n",
    "lineup_data = filter_lineups(data_scaled)\n",
    "print(f'Percent of lineups kept: {len(lineup_data)/len(data_scaled)}')\n",
    "\n",
    "fig, ax = plt.subplots(nrows=1, ncols=3, figsize=(12, 4))\n",
    "ax[0].hist(data_scaled['covariance_scale'], bins=100)\n",
    "ax[0].hist(lineup_data['covariance_scale'], bins=100)\n",
    "ax[0].set_xlabel('covariance_scale')\n",
    "\n",
    "ax[1].hist(data_scaled['projection_scale'], bins=100)\n",
    "ax[1].hist(lineup_data['projection_scale'], bins=100)\n",
    "ax[1].set_xlabel('projection_scale')\n",
    "\n",
    "ax[2].hist(data_scaled['salary_scale'], bins=20)\n",
    "ax[2].hist(lineup_data['salary_scale'], bins=20)\n",
    "ax[2].set_xlabel('salary_scale')\n",
    "plt.show()"
   ]
  },
  {
   "cell_type": "code",
   "execution_count": 6,
   "id": "45d8a907-a9d2-4dd7-9377-d94ba3fb72ad",
   "metadata": {},
   "outputs": [
    {
     "data": {
      "application/vnd.jupyter.widget-view+json": {
       "model_id": "af8d2baba3e84f678f518ac59c2edb22",
       "version_major": 2,
       "version_minor": 0
      },
      "text/plain": [
       "HBox(children=(VBox(children=(Button(button_style='primary', icon='arrows', layout=Layout(width='36px'), style…"
      ]
     },
     "execution_count": 6,
     "metadata": {},
     "output_type": "execute_result"
    }
   ],
   "source": [
    "filtered = lineup_data.copy()\n",
    "field_filtered = field.filter(filtered.index.values)\n",
    "\n",
    "with warnings.catch_warnings():\n",
    "    warnings.simplefilter(\"ignore\")\n",
    "    selection = field_filtered.generate_max_coverage(NUM_LINEUPS)\n",
    "    # selection = filtered.index.values\n",
    "    data['filter_group'] = ['Field']*len(data)\n",
    "    data.loc[filtered.index.values, 'filter_group'] = ['Filtered']*len(filtered)\n",
    "    data.loc[filtered.iloc[selection].index.values, 'filter_group'] = ['Selected']*len(selection)\n",
    "    scatter = jscatter.Scatter(data=data, x='projection', y='covariance')\n",
    "    scatter.color(by='filter_group')\n",
    "    scatter.size(by='filter_group', map=[2,2,6])\n",
    "    scatter.opacity(by='filter_group', map=[0.1, 0.3, 0.5])\n",
    "    scatter.height(600)\n",
    "    \n",
    "scatter.show()"
   ]
  },
  {
   "cell_type": "code",
   "execution_count": 7,
   "id": "d399260c-6d98-411f-94a5-9d5bba148a8e",
   "metadata": {},
   "outputs": [
    {
     "name": "stdout",
     "output_type": "stream",
     "text": [
      "[3110 3909 1588 2825 3136 2245 2617 2953 3880 3888 3986 1941 3999 2641\n",
      " 3465 3846 3443 3319 3084 3108]\n"
     ]
    }
   ],
   "source": [
    "filepath = Contest.field_filename(contest.week, CONTEST)\n",
    "if FILE_SUFFIX is not None:\n",
    "    filepath = pathlib.Path((FILE_SUFFIX + '_filtered.').join(str(filepath).split('.')))\n",
    "else:\n",
    "    filepath = pathlib.Path(('_filtered.').join(str(filepath).split('.')))\n",
    "if FIELD_FILE:\n",
    "    field_filtered.to_file(filepath)\n",
    "\n",
    "print(selection)\n",
    "if FILE_SUFFIX is not None:\n",
    "    filepath = pathlib.Path((FILE_SUFFIX + '.').join(str(filepath).split('.')))\n",
    "if UPLOAD_FILE:\n",
    "    Contest.LineupSet.convert_to_uploadable(filepath, selection)"
   ]
  },
  {
   "cell_type": "code",
   "execution_count": null,
   "id": "e4df3265-6bcb-4ca8-b3bc-06a77bcf9c45",
   "metadata": {},
   "outputs": [],
   "source": []
  }
 ],
 "metadata": {
  "kernelspec": {
   "display_name": "Python 3 (ipykernel)",
   "language": "python",
   "name": "python3"
  },
  "language_info": {
   "codemirror_mode": {
    "name": "ipython",
    "version": 3
   },
   "file_extension": ".py",
   "mimetype": "text/x-python",
   "name": "python",
   "nbconvert_exporter": "python",
   "pygments_lexer": "ipython3",
   "version": "3.10.6"
  }
 },
 "nbformat": 4,
 "nbformat_minor": 5
}
