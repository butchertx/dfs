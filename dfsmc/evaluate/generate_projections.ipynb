{
 "cells": [
  {
   "cell_type": "code",
   "execution_count": 13,
   "metadata": {},
   "outputs": [],
   "source": [
    "%matplotlib inline\n",
    "import matplotlib.pyplot as plt\n",
    "from pandas.plotting import scatter_matrix\n",
    "import pandas as pd\n",
    "from scipy.stats import gamma\n",
    "import numpy as np\n",
    "\n",
    "pd.set_option('display.max_rows', 500)\n",
    "pd.set_option('display.max_columns', 500)\n",
    "pd.set_option('display.width', 1000)"
   ]
  },
  {
   "cell_type": "code",
   "execution_count": 14,
   "metadata": {},
   "outputs": [
    {
     "name": "stdout",
     "output_type": "stream",
     "text": [
      "        name_display  week_num team_name_abbr pos_game  rush_att  rush_yds_per_att  rush_td  two_pt_md  pass_cmp  pass_yds_per_cmp  pass_td  pass_int  fumbles  fumbles_rec_td  all_td  pass_adj_net_yds_per_att  pass_att  pass_sacked  pass_air_yds_per_att  pass_blitzed  pass_hurried  pass_on_target_pct  pass_play_action  pass_poor_throw_pct  pass_pressured_pct  pass_rpo  pass_tgt_yds_per_att  pocket_time  rush_scrambles_yds_per_att   rec  rec_yds_per_rec  rec_td  touches  catch_pct  targets  rec_yds_per_tgt  rec_adot  rec_air_yds_per_rec  rec_drop_pct  rec_yac_per_rec  rush_yds_bc_per_rush  draftkings_points        date game_location opp_name_abbr          cover duration game_day_of_week  game_num   game_result ou_result  over_under  plays_defense  plays_offense  points  points_combined  points_diff  points_opp time_of_poss  tot_yds  vegas_line  yds_per_play_defense  yds_per_play_offense\n",
      "1228  Jauan Jennings         3            SFO       WR       NaN               NaN      NaN        0.0       NaN               NaN      NaN       NaN      0.0             0.0     3.0                       NaN       NaN          NaN                   NaN           NaN           NaN                 NaN               NaN                  NaN                 NaN       NaN                   NaN          NaN                         NaN  11.0             15.9     3.0     11.0       91.7     12.0             14.6      12.4                 13.5           0.0              2.4                   NaN               49.5  2024-09-22             @           LAR  did not cover     3:06              Sun       3.0       L 24-27      over        43.5           55.0           65.0    24.0             51.0         -3.0        27.0        33:27    425.0        -6.5                  5.38                  6.54\n",
      "512     Alvin Kamara         2            NOR       RB      20.0               5.8      3.0        0.0       NaN               NaN      NaN       NaN      0.0             0.0     4.0                       NaN       NaN          NaN                   NaN           NaN           NaN                 NaN               NaN                  NaN                 NaN       NaN                   NaN          NaN                         NaN   2.0             32.5     1.0     22.0       66.7      3.0             21.7       NaN                  NaN           NaN              NaN                   NaN               47.0  2024-09-15             @           DAL        covered     2:54              Sun       2.0       W 44-19      over        46.5           66.0           56.0    44.0             63.0         25.0        19.0        30:31    432.0         6.0                  5.35                  7.71\n",
      "1418   Derrick Henry         4            BAL       RB      24.0               8.3      1.0        0.0       NaN               NaN      NaN       NaN      1.0             0.0     2.0                       NaN       NaN          NaN                   NaN           NaN           NaN                 NaN               NaN                  NaN                 NaN       NaN                   NaN          NaN                         NaN   3.0              3.3     1.0     27.0      100.0      3.0              3.3       0.3                  0.3           0.0              3.0                   6.4               38.9  2024-09-29                         BUF        covered     2:55              Sun       4.0       W 35-10     under        46.5           57.0           54.0    35.0             45.0         25.0        10.0        31:03    427.0        -2.5                  4.14                  7.91\n",
      "1032  Saquon Barkley         3            PHI       RB      17.0               8.6      2.0        1.0       NaN               NaN      NaN       NaN      0.0             0.0     2.0                       NaN       NaN          NaN                   NaN           NaN           NaN                 NaN               NaN                  NaN                 NaN       NaN                   NaN          NaN                         NaN   4.0              2.3     0.0     21.0      100.0      4.0              2.3       NaN                  NaN           NaN              NaN                   NaN               36.6  2024-09-22             @           NOR        covered     3:03              Sun       3.0       W 15-12     under        49.5           55.0           67.0    15.0             27.0          3.0        12.0        32:15    460.0         2.5                  3.98                  6.87\n",
      "152   Saquon Barkley         1            PHI       RB      24.0               4.5      2.0        0.0       NaN               NaN      NaN       NaN      0.0             0.0     3.0                       NaN       NaN          NaN                   NaN           NaN           NaN                 NaN               NaN                  NaN                 NaN       NaN                   NaN          NaN                         NaN   2.0             11.5     1.0     26.0      100.0      2.0             11.5      10.0                 10.0           0.0              1.5                   3.3               36.2  2024-09-06                         GNB        covered     3:29              Fri       1.0       W 34-29      over        49.5           58.0           74.0    34.0             63.0          5.0        29.0        32:47    410.0        -2.0                  7.14                  5.54\n",
      "1708    Nico Collins         4            HOU       WR       NaN               NaN      NaN        0.0       NaN               NaN      NaN       NaN      0.0             0.0     1.0                       NaN       NaN          NaN                   NaN           NaN           NaN                 NaN               NaN                  NaN                 NaN       NaN                   NaN          NaN                         NaN  12.0             12.6     1.0     12.0       80.0     15.0             10.1       9.8                  7.3           0.0              5.3                   NaN               36.1  2024-09-29                         JAX  did not cover     3:12              Sun       4.0       W 24-20     under        44.5           58.0           68.0    24.0             44.0          4.0        20.0        33:17    435.0        -5.5                  5.40                  6.40\n",
      "352      Jayden Reed         1            GNB       WR       1.0              33.0      1.0        0.0       NaN               NaN      NaN       NaN      0.0             0.0     2.0                       NaN       NaN          NaN                   NaN           NaN           NaN                 NaN               NaN                  NaN                 NaN       NaN                   NaN          NaN                         NaN   4.0             34.5     1.0      5.0       66.7      6.0             23.0      17.3                 20.8           0.0             13.8                  10.0               36.1  2024-09-06             @           PHI  did not cover     3:29              Fri       1.0       L 29-34      over        49.5           74.0           58.0    29.0             63.0         -5.0        34.0        27:13    414.0         2.0                  5.54                  7.14\n",
      "1375   Justin Fields         4            PIT       QB      10.0               5.5      2.0        0.0      22.0              14.2      1.0       0.0      2.0             0.0     2.0                      7.95      34.0          4.0                   4.6           5.0           4.0                75.0               4.0                  9.4                26.2       1.0                   7.1          2.3                         4.0   0.0              NaN     0.0     10.0        NaN      0.0              NaN       NaN                  NaN           NaN              NaN                   3.5               36.0  2024-09-29             @           IND  did not cover     3:05              Sun       4.0       L 24-27      over        40.5           64.0           68.0    24.0             51.0         -3.0        27.0        31:07    404.0        -1.0                  5.59                  5.94\n",
      "304      Cooper Kupp         1            LAR       WR       2.0               5.0      0.0        0.0       NaN               NaN      NaN       NaN      0.0             0.0     1.0                       NaN       NaN          NaN                   NaN           NaN           NaN                 NaN               NaN                  NaN                 NaN       NaN                   NaN          NaN                         NaN  14.0              7.9     1.0     16.0       66.7     21.0              5.2       7.3                  4.9           4.8              2.9                   4.5               35.0  2024-09-08             @           DET  did not cover     3:14              Sun       1.0  L 20-26 (OT)     under        52.5           61.0           74.0    20.0             46.0         -6.0        26.0        34:56    387.0         4.5                  5.95                  5.23\n",
      "1372     Jordan Love         4            GNB       QB       1.0               6.0      0.0        0.0      32.0              12.2      4.0       3.0      0.0             0.0     0.0                      5.89      54.0          1.0                   4.3          25.0           9.0                64.8               6.0                 16.7                33.9       6.0                  10.3          2.4                         6.0   0.0              NaN     0.0      1.0        NaN      0.0              NaN       NaN                  NaN           NaN              NaN                   0.0               34.2  2024-09-29                         MIN  did not cover     3:28              Sun       4.0       L 29-31      over        44.0           64.0           74.0    29.0             60.0         -2.0        31.0        27:45    465.0        -3.0                  5.84                  6.28\n",
      "                name_display  draftkings_points team_name_abbr pos_game game_location opp_name_abbr  week_num\n",
      "0            Braxton Berrios                0.0            MIA       WR                         BUF         2\n",
      "1              Curtis Samuel                3.5            BUF       WR             @           MIA         2\n",
      "2             Dalton Kincaid                2.1            BUF       TE             @           MIA         2\n",
      "3                Dawson Knox                3.3            BUF       TE             @           MIA         2\n",
      "4              De'Von Achane               23.0            MIA       RB                         BUF         2\n",
      "5              Durham Smythe                0.0            MIA       TE                         BUF         2\n",
      "6                 James Cook               13.3            BUF       RB             @           MIA         2\n",
      "7              Jason Sanders               10.0            MIA        K                         BUF         2\n",
      "8              Jaylen Waddle               19.2            MIA       WR                         BUF         2\n",
      "9                Jonnu Smith                1.7            MIA       TE                         BUF         2\n",
      "10                Josh Allen               32.2            BUF       QB             @           MIA         2\n",
      "11               Julian Hill                1.6            MIA       TE                         BUF         2\n",
      "12              Keon Coleman                9.1            BUF       WR             @           MIA         2\n",
      "13             Khalil Shakir               13.2            BUF       WR             @           MIA         2\n",
      "14              Mack Hollins               10.5            BUF       WR             @           MIA         2\n",
      "15  Marquez Valdes-Scantling                2.9            BUF       WR             @           MIA         2\n",
      "16            Quintin Morris                0.0            BUF       TE             @           MIA         2\n",
      "17            Raheem Mostert                3.9            MIA       RB                         BUF         2\n",
      "18                 Ray Davis                3.7            BUF       RB             @           MIA         2\n",
      "19             Robbie Chosen                0.0            MIA       WR                         BUF         2\n",
      "20             Tanner Conner                0.0            MIA       TE                         BUF         2\n",
      "21            Tua Tagovailoa               21.6            MIA       QB                         BUF         2\n",
      "22                Ty Johnson                0.7            BUF       RB             @           MIA         2\n",
      "23                Tyler Bass               10.0            BUF        K             @           MIA         2\n",
      "24               Tyreek Hill               29.0            MIA       WR                         BUF         2\n",
      "            K_home    QB_home     RB_home    TE_home     WR_home     K_away    QB_away     RB_away    TE_away     WR_away\n",
      "K_home   22.658361   3.262093    6.216950   2.334557    5.265922  -1.346842  -1.320992   -2.048135  -1.978810    0.401752\n",
      "QB_home   3.262093  75.973521    2.334403  24.402339   72.763545   0.949040  13.971138    6.187562   8.266301   13.780520\n",
      "RB_home   6.216950   2.334403  108.798821  -6.941747  -10.051332  -3.370339   0.409662   -2.399117   2.777918    2.897840\n",
      "TE_home   2.334557  24.402339   -6.941747  61.077012    3.746340   1.404008   5.380444    3.773550   1.722645    6.304484\n",
      "WR_home   5.265922  72.763545  -10.051332   3.746340  218.242487   4.140412  16.229987    3.951333   7.653310   21.441442\n",
      "K_away   -1.346842   0.949040   -3.370339   1.404008    4.140412  22.471427   4.973220    7.657290   0.718018    7.849744\n",
      "QB_away  -1.320992  13.971138    0.409662   5.380444   16.229987   4.973220  72.163985    9.001068  20.603951   68.559433\n",
      "RB_away  -2.048135   6.187562   -2.399117   3.773550    3.951333   7.657290   9.001068  109.850134  -1.053014   -7.514724\n",
      "TE_away  -1.978810   8.266301    2.777918   1.722645    7.653310   0.718018  20.603951   -1.053014  60.734692   -0.847430\n",
      "WR_away   0.401752  13.780520    2.897840   6.304484   21.441442   7.849744  68.559433   -7.514724  -0.847430  220.188414\n"
     ]
    }
   ],
   "source": [
    "from dfsmc.projection import projection\n",
    "from dfsmc.contest import Contest\n",
    "from dfsmc.lineup import Lineup\n",
    "from dfsdata import interface as db\n",
    "\n",
    "\n",
    "contest = Contest.Contest(contest_id=166872333, db_interface=db.DFSDBInterface())\n",
    "players = contest.get_draftables()\n",
    "players = players.rename(columns={'name': 'name_display', 'week': 'week_num'})\n",
    "\n",
    "projector = projection.TrivialProjector(2024, 2)\n",
    "upcoming_games = projector.populate_upcoming_matchups(contest.draft_group_id)\n",
    "# print(upcoming_games.head(10))\n",
    "print(projector.player_game_data.sort_values(by='draftkings_points', ascending=False).head(10))\n",
    "projections = projector.get_projections(players)\n",
    "print(projections)\n",
    "cov = projector.read_covariance()\n",
    "print(cov)"
   ]
  },
  {
   "cell_type": "code",
   "execution_count": 15,
   "metadata": {},
   "outputs": [
    {
     "name": "stdout",
     "output_type": "stream",
     "text": [
      "      name_display  draftkings_points team_name_abbr pos_game game_location opp_name_abbr  week_num   loc  pos_loc\n",
      "0  Braxton Berrios                0.0            MIA       WR                         BUF         2  home  WR_home\n",
      "1    Curtis Samuel                3.5            BUF       WR             @           MIA         2  away  WR_away\n",
      "2   Dalton Kincaid                2.1            BUF       TE             @           MIA         2  away  TE_away\n",
      "3      Dawson Knox                3.3            BUF       TE             @           MIA         2  away  TE_away\n",
      "4    De'Von Achane               23.0            MIA       RB                         BUF         2  home  RB_home\n",
      "5    Durham Smythe                0.0            MIA       TE                         BUF         2  home  TE_home\n",
      "6       James Cook               13.3            BUF       RB             @           MIA         2  away  RB_away\n",
      "7    Jason Sanders               10.0            MIA        K                         BUF         2  home   K_home\n",
      "8    Jaylen Waddle               19.2            MIA       WR                         BUF         2  home  WR_home\n",
      "9      Jonnu Smith                1.7            MIA       TE                         BUF         2  home  TE_home\n",
      "K_home\n",
      "QB_home\n",
      "RB_home\n",
      "TE_home\n",
      "WR_home\n",
      "K_away\n",
      "QB_away\n",
      "RB_away\n",
      "TE_away\n",
      "WR_away\n",
      "[[0 0 0 0 0 0 0 1 0 0 0 0 0 0 0 0 0 0 0 0 0 0 0 0 0]\n",
      " [0 0 0 0 0 0 0 0 0 0 0 0 0 0 0 0 0 0 0 0 0 1 0 0 0]\n",
      " [0 0 0 0 1 0 0 0 0 0 0 0 0 0 0 0 0 1 0 0 0 0 0 0 0]\n",
      " [0 0 0 0 0 1 0 0 0 1 0 1 0 0 0 0 0 0 0 0 1 0 0 0 0]\n",
      " [1 0 0 0 0 0 0 0 1 0 0 0 0 0 0 0 0 0 0 1 0 0 0 0 1]\n",
      " [0 0 0 0 0 0 0 0 0 0 0 0 0 0 0 0 0 0 0 0 0 0 0 1 0]\n",
      " [0 0 0 0 0 0 0 0 0 0 1 0 0 0 0 0 0 0 0 0 0 0 0 0 0]\n",
      " [0 0 0 0 0 0 1 0 0 0 0 0 0 0 0 0 0 0 1 0 0 0 1 0 0]\n",
      " [0 0 1 1 0 0 0 0 0 0 0 0 0 0 0 0 1 0 0 0 0 0 0 0 0]\n",
      " [0 1 0 0 0 0 0 0 0 0 0 0 1 1 1 1 0 0 0 0 0 0 0 0 0]]\n"
     ]
    }
   ],
   "source": [
    "loc_map = {'@': 'away', '': 'home'}\n",
    "projections['loc'] = projections['game_location'].map(loc_map)\n",
    "projections['pos_loc'] = [f'{pos}_{loc}' for pos, loc in zip(projections['pos_game'].values, projections['loc'].values)]\n",
    "print(projections.head(10))\n",
    "\n",
    "rows = []\n",
    "for row in cov.index.values:\n",
    "    print(row)\n",
    "    ones = projections['pos_loc'] == row\n",
    "    ones = np.array(ones.values, dtype=int, ndmin=2)\n",
    "    rows.append(ones)\n",
    "con_matrix = np.vstack(rows)\n",
    "print(con_matrix)"
   ]
  },
  {
   "cell_type": "code",
   "execution_count": null,
   "metadata": {},
   "outputs": [],
   "source": []
  }
 ],
 "metadata": {
  "kernelspec": {
   "display_name": "dfs",
   "language": "python",
   "name": "python3"
  },
  "language_info": {
   "codemirror_mode": {
    "name": "ipython",
    "version": 3
   },
   "file_extension": ".py",
   "mimetype": "text/x-python",
   "name": "python",
   "nbconvert_exporter": "python",
   "pygments_lexer": "ipython3",
   "version": "undefined.undefined.undefined"
  }
 },
 "nbformat": 4,
 "nbformat_minor": 2
}
